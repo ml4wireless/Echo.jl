{
 "cells": [
  {
   "cell_type": "code",
   "execution_count": 1,
   "id": "af031f10-fe2c-4ced-8bb5-45c7e94119fc",
   "metadata": {},
   "outputs": [
    {
     "name": "stderr",
     "output_type": "stream",
     "text": [
      "┌ Warning: backend `PlotlyJS` is not installed.\n",
      "└ @ Plots /home/jsanz/.julia/packages/Plots/Pe7wF/src/backends.jl:43\n"
     ]
    },
    {
     "data": {
      "text/plain": [
       "Plots.PlotlyJSBackend()"
      ]
     },
     "metadata": {},
     "output_type": "display_data"
    }
   ],
   "source": [
    "using Echo\n",
    "using BSON\n",
    "using Accessors\n",
    "using Flux\n",
    "using LinearAlgebra\n",
    "using Plots\n",
    "plotlyjs()\n"
   ]
  },
  {
   "cell_type": "code",
   "execution_count": 2,
   "id": "dd8eb19f",
   "metadata": {},
   "outputs": [
    {
     "data": {
      "text/plain": [
       "Dict{Any, Any} with 5 entries:\n",
       "  4 => [-10.0 0.440701 … 0.482237 0.923885; -9.8 0.43915 … 0.48151 0.923294; … …\n",
       "  6 => [-10.0 0.461196 … 0.487189 0.9801; -9.8 0.460019 … 0.486533 0.979901; … …\n",
       "  2 => [-10.0 0.375843 … 0.469191 0.71828; -9.8 0.373085 … 0.467804 0.716779; ……\n",
       "  3 => [-10.0 0.416661 … 0.479604 0.856796; -9.8 0.414682 … 0.478422 0.855689; …\n",
       "  1 => [-10.0 0.327249 … 0.440373 0.440373; -9.8 0.323592 … 0.43774 0.43774; … …"
      ]
     },
     "metadata": {},
     "output_type": "display_data"
    }
   ],
   "source": [
    "tab = Echo.LookupTableUtils.ber_lookup_table"
   ]
  },
  {
   "cell_type": "code",
   "execution_count": 3,
   "id": "b3582832",
   "metadata": {},
   "outputs": [
    {
     "data": {
      "text/plain": [
       "225×5 Matrix{Float64}:\n",
       " -10.0  0.375843  0.610497  0.469191  0.71828\n",
       "  -9.8  0.373085  0.606966  0.467804  0.716779\n",
       "  -9.6  0.370336  0.603599  0.466321  0.715084\n",
       "  -9.4  0.367482  0.600047  0.46479   0.713583\n",
       "  -9.2  0.364469  0.596207  0.463306  0.711931\n",
       "  -9.0  0.361567  0.592484  0.461551  0.710177\n",
       "  -8.8  0.358105  0.588038  0.45966   0.708018\n",
       "  -8.6  0.355057  0.584222  0.457846  0.706078\n",
       "  -8.4  0.351831  0.579861  0.456085  0.704152\n",
       "  -8.2  0.348519  0.575488  0.454129  0.70189\n",
       "   ⋮                                  \n",
       "  33.2  0.0       0.0       0.0       0.0\n",
       "  33.4  0.0       0.0       0.0       0.0\n",
       "  33.6  0.0       0.0       0.0       0.0\n",
       "  33.8  0.0       0.0       0.0       0.0\n",
       "  34.0  0.0       0.0       0.0       0.0\n",
       "  34.2  0.0       0.0       0.0       0.0\n",
       "  34.4  0.0       0.0       0.0       0.0\n",
       "  34.6  0.0       0.0       0.0       0.0\n",
       "  34.8  0.0       0.0       0.0       0.0"
      ]
     },
     "metadata": {},
     "output_type": "display_data"
    }
   ],
   "source": [
    "tab[2]"
   ]
  },
  {
   "cell_type": "code",
   "execution_count": 4,
   "id": "aecc3911",
   "metadata": {},
   "outputs": [
    {
     "data": {
      "text/plain": [
       "0.0084949f0"
      ]
     },
     "metadata": {},
     "output_type": "display_data"
    }
   ],
   "source": [
    "get_optimal_BER_roundtrip(8.2, 2)"
   ]
  },
  {
   "cell_type": "code",
   "execution_count": 5,
   "id": "9a0d67f2",
   "metadata": {},
   "outputs": [
    {
     "data": {
      "text/plain": [
       "8.4f0"
      ]
     },
     "metadata": {},
     "output_type": "display_data"
    }
   ],
   "source": [
    "get_optimal_SNR_for_BER_roundtrip(0.01, 2)"
   ]
  },
  {
   "cell_type": "code",
   "execution_count": 6,
   "id": "09a1f567",
   "metadata": {},
   "outputs": [
    {
     "data": {
      "text/plain": [
       "(0.00424085, 0.0084647)"
      ]
     },
     "metadata": {},
     "output_type": "display_data"
    },
    {
     "data": {
      "text/plain": [
       "(0.00428135, 0.00849675, 0.0085444, 0.0169219)"
      ]
     },
     "metadata": {},
     "output_type": "display_data"
    }
   ],
   "source": [
    "function sim_ber_ser_ht(bps, snr, N=10_000_000)\n",
    "    m = ClassicMod(bits_per_symbol=bps, rotation_deg=0,)\n",
    "    d = ClassicDemod(bits_per_symbol=bps, rotation_deg=0,)\n",
    "    a1 = Agent(m, nothing)\n",
    "    a2 = Agent(nothing, d)\n",
    "\n",
    "    n = min(10_000_000, N)\n",
    "    reps = ceil(N / n)\n",
    "    ber = 0.\n",
    "    ser = 0.\n",
    "    for _ in 1:reps\n",
    "        res = simulate_half_trip(a1, a2, bps, n, snr, false)\n",
    "        ber += sum(res.preamble .!= res.d2_symbs) / n / bps\n",
    "        ser += sum(any.(eachcol(res.preamble .!= res.d2_symbs))) / n\n",
    "    end\n",
    "    ber / reps, ser / reps\n",
    "end\n",
    "\n",
    "function sim_ber_ser_rt(bps, snr, N=10_000_000)\n",
    "    m1 = ClassicMod(bits_per_symbol=bps, rotation_deg=0,)\n",
    "    m2 = ClassicMod(bits_per_symbol=bps, rotation_deg=0,)\n",
    "    d1 = ClassicDemod(bits_per_symbol=bps, rotation_deg=0,)\n",
    "    d2 = ClassicDemod(bits_per_symbol=bps, rotation_deg=0,)\n",
    "    a1 = Agent(m1, d1)\n",
    "    a2 = Agent(m2, d2)\n",
    "\n",
    "    n = min(10_000_000, N)\n",
    "    reps = ceil(N / n)\n",
    "    ber_ht = ber_rt = 0.\n",
    "    ser_ht = ser_rt = 0.\n",
    "    for _ in 1:reps\n",
    "        res = simulate_round_trip(a1, a2, bps, n, snr, false, final_halftrip=false, shared_preamble=true)\n",
    "        ber_ht += sum(res.preamble1 .!= res.d2_ht_symbs) / n / bps\n",
    "        ser_ht += sum(any.(eachcol(res.preamble1 .!= res.d2_ht_symbs))) / n\n",
    "        ber_rt += sum(res.preamble1 .!= res.d1_rt_symbs) / n / bps\n",
    "        ser_rt += sum(any.(eachcol(res.preamble1 .!= res.d1_rt_symbs))) / n\n",
    "    end\n",
    "    return ber_ht/reps, ber_rt/reps, ser_ht/reps, ser_rt/reps\n",
    "end\n",
    "\n",
    "display(sim_ber_ser_ht(2, 8.4f0, 10_000_000))\n",
    "sim_ber_ser_rt(2, 8.4f0, 10_000_000)"
   ]
  },
  {
   "cell_type": "code",
   "execution_count": 10,
   "id": "416bb338",
   "metadata": {},
   "outputs": [
    {
     "data": {
      "text/plain": [
       "Dict{Int64, Matrix{Float32}}()"
      ]
     },
     "metadata": {},
     "output_type": "display_data"
    }
   ],
   "source": [
    "new_tbl = Dict{Int, Matrix{Float32}}()"
   ]
  },
  {
   "cell_type": "code",
   "execution_count": 11,
   "id": "cdde8b34",
   "metadata": {},
   "outputs": [
    {
     "name": "stderr",
     "output_type": "stream",
     "text": [
      "┌ Warning: linestyle dots is unsupported with Plots.PlotlyJSBackend(). Choose from: [:auto, :dash, :dashdot, :dot, :solid]\n",
      "└ @ Plots /home/jsanz/.julia/packages/Plots/Pe7wF/src/args.jl:1573\n",
      "┌ Warning: linestyle dots is unsupported with Plots.PlotlyJSBackend(). Choose from: [:auto, :dash, :dashdot, :dot, :solid]\n",
      "└ @ Plots /home/jsanz/.julia/packages/Plots/Pe7wF/src/args.jl:1573\n",
      "┌ Warning: linestyle dots is unsupported with Plots.PlotlyJSBackend(). Choose from: [:auto, :dash, :dashdot, :dot, :solid]\n",
      "└ @ Plots /home/jsanz/.julia/packages/Plots/Pe7wF/src/args.jl:1573\n",
      "┌ Warning: linestyle dots is unsupported with Plots.PlotlyJSBackend(). Choose from: [:auto, :dash, :dashdot, :dot, :solid]\n",
      "└ @ Plots /home/jsanz/.julia/packages/Plots/Pe7wF/src/args.jl:1573\n"
     ]
    }
   ],
   "source": [
    "pb = plot(title=\"BER HT Curves\", xlabel=\"SNR dB\", ylabel=\"BER\", yscale=:log)\n",
    "pbr = plot(title=\"BER RT Curves\", xlabel=\"SNR dB\", ylabel=\"BER\", yscale=:log)\n",
    "ps = plot(title=\"SER HT Curves\", xlabel=\"SNR dB\", ylabel=\"SER\", yscale=:log)\n",
    "psr = plot(title=\"SER RT Curves\", xlabel=\"SNR dB\", ylabel=\"SER\", yscale=:log)\n",
    "SNRs = Float32.(collect(LinRange(-10, 34.8, 225)))\n",
    "colors = Dict(1 => :purple, 2 => :blue, 4 => :green, 6 => :orange)\n",
    "for bps in [1,2,4,6,8,10]\n",
    "    println(\"BPS $bps\")\n",
    "    pb_th = [predict_classic_ber(bps, Float32(snr)) for snr in SNRs]\n",
    "    pb_th_rt = [predict_classic_ber_roundtrip(bps, Float32(snr)) for snr in SNRs]\n",
    "    ps_th = [predict_classic_ser(bps, Float32(snr)) for snr in SNRs]\n",
    "    ps_th_rt = [predict_classic_ser_roundtrip(bps, Float32(snr)) for snr in SNRs]\n",
    "    plot!(pb, SNRs, pb_th, label=\"Thy, BPS=$bps, BER\", color=colors[bps], linewidth=2)\n",
    "    plot!(pbr, SNRs, pb_th_rt, label=\"Thy, BPS=$bps, BER\", color=colors[bps], linewidth=2)\n",
    "    plot!(ps, SNRs, ps_th, label=\"Thy, BPS=$bps, SER\", color=colors[bps], linewidth=2)\n",
    "    plot!(psr, SNRs, ps_th_rt, label=\"Thy, BPS=$bps, SER\", color=colors[bps], linewidth=2)\n",
    "    if bps <= 6\n",
    "        pb_tbl = [get_optimal_BER(snr, bps) for snr in SNRs]\n",
    "        pb_tbl_rt = [get_optimal_BER_roundtrip(snr, bps) for snr in SNRs]\n",
    "        ps_tbl = [get_optimal_SER(snr, bps) for snr in SNRs]\n",
    "        ps_tbl_rt = [get_optimal_SER_roundtrip(snr, bps) for snr in SNRs]\n",
    "        plot!(pb, SNRs, pb_tbl, linestyle=:dash, label=\"Tbl, BPS=$bps, BER\", color=colors[bps], linewidth=2)\n",
    "        plot!(pbr, SNRs, pb_tbl_rt, linestyle=:dash, label=\"Tbl, BPS=$bps, BER\", color=colors[bps], linewidth=2)\n",
    "        plot!(ps, SNRs, ps_tbl, linestyle=:dash, label=\"Tbl, BPS=$bps, SER\", color=colors[bps], linewidth=2)\n",
    "        plot!(psr, SNRs, ps_tbl_rt, linestyle=:dash, label=\"Tbl, BPS=$bps, SER\", color=colors[bps], linewidth=2)\n",
    "    end\n",
    "    pb_ex_ht = zeros(Float32, length(SNRs))\n",
    "    pb_ex_rt = zeros(Float32, length(SNRs))\n",
    "    ps_ex_ht = zeros(Float32, length(SNRs))\n",
    "    ps_ex_rt = zeros(Float32, length(SNRs))\n",
    "    Threads.@threads for i in eachindex(SNRs)\n",
    "        bh, br, sh, sr = sim_ber_ser_rt(bps, SNRs[i], 10_000_000)\n",
    "        pb_ex_ht[i] = bh\n",
    "        pb_ex_rt[i] = br\n",
    "        ps_ex_ht[i] = sh\n",
    "        ps_ex_rt[i] = sr\n",
    "    end\n",
    "    new_tbl[bps] = hcat(SNRs, pb_ex_ht, ps_ex_ht, pb_ex_rt, ps_ex_rt)\n",
    "    plot!(pb, SNRs, pb_ex_ht, linestyle=:dot, label=\"Exp, BPS=$bps, BER\", color=colors[bps], linewidth=2)\n",
    "    plot!(pbr, SNRs, pb_ex_rt, linestyle=:dot, label=\"Exp, BPS=$bps, BER\", color=colors[bps], linewidth=2)\n",
    "    plot!(ps, SNRs, ps_ex_ht, linestyle=:dot, label=\"Exp, BPS=$bps, SER\", color=colors[bps], linewidth=2)\n",
    "    plot!(psr, SNRs, ps_ex_rt, linestyle=:dot, label=\"Exp, BPS=$bps, SER\", color=colors[bps], linewidth=2)\n",
    "end\n",
    "\n",
    "bson(\"new_ber_tbl.bson\", new_tbl)\n",
    "\n",
    "plot!(pb, ylim=[1e-7, 1.1])\n",
    "plot!(pbr, ylim=[1e-7, 1.1])\n",
    "plot!(ps, ylim=[1e-7, 1.1])\n",
    "plot!(psr, ylim=[1e-7, 1.1])\n",
    "\n",
    "display(plot(pb, ps, layout=(1, 2), size=(1200, 500), legend=:outertopright))\n",
    "display(plot(pbr, psr, layout=(1, 2), size=(1200, 500), legend=:outertopright))"
   ]
  },
  {
   "cell_type": "code",
   "execution_count": 9,
   "id": "2aeeac85",
   "metadata": {},
   "outputs": [],
   "source": []
  }
 ],
 "metadata": {
  "kernelspec": {
   "display_name": "Julia 1.10.2",
   "language": "julia",
   "name": "julia-1.10"
  },
  "language_info": {
   "file_extension": ".jl",
   "mimetype": "application/julia",
   "name": "julia",
   "version": "1.10.2"
  }
 },
 "nbformat": 4,
 "nbformat_minor": 5
}
